{
  "nbformat": 4,
  "nbformat_minor": 0,
  "metadata": {
    "colab": {
      "provenance": [],
      "include_colab_link": true
    },
    "kernelspec": {
      "name": "python3",
      "display_name": "Python 3"
    },
    "language_info": {
      "name": "python"
    }
  },
  "cells": [
    {
      "cell_type": "markdown",
      "metadata": {
        "id": "view-in-github",
        "colab_type": "text"
      },
      "source": [
        "<a href=\"https://colab.research.google.com/github/rtmyy/research-hw/blob/main/CLT_Case_study_Ritaporn_Thammawat(6836277).ipynb\" target=\"_parent\"><img src=\"https://colab.research.google.com/assets/colab-badge.svg\" alt=\"Open In Colab\"/></a>"
      ]
    },
    {
      "cell_type": "markdown",
      "source": [
        "## กรณีศึกษา\n",
        "ทำการทดลองจัดเก็บค่าน้ำหนักของกลุ่มตัวอย่าง สมมุติว่าความสูงของกลุ่มตัวอย่าง มีการกระจายตัวแบบ [Uniform Distribution](https://en.wikipedia.org/wiki/Continuous_uniform_distribution)  มีค่าต่ำสุดที่ 40 สูงสุดที่ 70 โดยทำการสุ่มมา 1000 คน\n",
        "\n",
        "ในการศึกษานี้จะจำลองการจัดเก็บข้อมูลโดยการให้ computer สร้าง ตัวเลขอย่างสุ่มขึ้นมาแทนการไปจัดเก็บจริง โดยจะมีการดำเนินดังนี้\n",
        "\n"
      ],
      "metadata": {
        "id": "nl1MkrIBY2NX"
      }
    },
    {
      "cell_type": "code",
      "execution_count": 3,
      "metadata": {
        "id": "6TRylPphEImq"
      },
      "outputs": [],
      "source": [
        "# นำเข้า library ที่จำเป็น\n",
        "import numpy as np\n",
        "import matplotlib.pyplot as plt\n"
      ]
    },
    {
      "cell_type": "markdown",
      "source": [
        "ทำสอบการสร้างตัวเลขสุ่ม (random variable) โดย code ด้านล่างนี้\n",
        "ให้ทดลองปรับ ค่าตัวแปร  n N สังเกตผลความเปลี่ยนแปลงที่เกิดขึ้น"
      ],
      "metadata": {
        "id": "A5gQmriJaIP4"
      }
    },
    {
      "cell_type": "code",
      "source": [
        "min = 40\n",
        "max = 70\n",
        "n = 1 # Number of samples per sampling\n",
        "N = 10 # Number sampling\n",
        "data = np.random.uniform(min, max, size=(N,n))\n",
        "print(data)\n"
      ],
      "metadata": {
        "colab": {
          "base_uri": "https://localhost:8080/"
        },
        "id": "8Erkt1J_MzSt",
        "outputId": "da64774e-190f-4118-a415-323d6bf6785e"
      },
      "execution_count": 4,
      "outputs": [
        {
          "output_type": "stream",
          "name": "stdout",
          "text": [
            "[[56.01570363]\n",
            " [51.50285445]\n",
            " [62.78941393]\n",
            " [61.99949798]\n",
            " [44.35076871]\n",
            " [54.58087498]\n",
            " [67.87022397]\n",
            " [59.40172569]\n",
            " [67.9144408 ]\n",
            " [55.79182674]]\n"
          ]
        }
      ]
    },
    {
      "cell_type": "markdown",
      "source": [
        "ให้ทดลองเปลี่ยนค่า axis สังเกตผลความเปลี่ยนแปลงที่เกิดขึ้น"
      ],
      "metadata": {
        "id": "8ItFuoXzg9Ae"
      }
    },
    {
      "cell_type": "code",
      "source": [
        "\n",
        "axis = 1\n",
        "avgSample = data.mean(axis)\n",
        "print(avgSample)"
      ],
      "metadata": {
        "colab": {
          "base_uri": "https://localhost:8080/"
        },
        "id": "5OaeDW6EcSxv",
        "outputId": "e1a41069-14b2-4605-9d48-d4bd58b70d07"
      },
      "execution_count": 5,
      "outputs": [
        {
          "output_type": "stream",
          "name": "stdout",
          "text": [
            "[56.01570363 51.50285445 62.78941393 61.99949798 44.35076871 54.58087498\n",
            " 67.87022397 59.40172569 67.9144408  55.79182674]\n"
          ]
        }
      ]
    },
    {
      "cell_type": "markdown",
      "source": [
        "ให้ทดลองเปลี่ยนค่า min และ max สังเกตุผลที่เกิดขึ้น"
      ],
      "metadata": {
        "id": "U-NDg_X1hO1K"
      }
    },
    {
      "cell_type": "code",
      "source": [
        "min = 40\n",
        "max = 70\n",
        "n = 1 # Number of sample per sampling\n",
        "N = 1000 # Number sampling\n",
        "bin = 10\n",
        "data = np.random.uniform(min, max, size=(N,n))\n",
        "avgSample = data.mean(axis = 1)\n",
        "plt.hist(avgSample,bin, ec = 'black', rwidth=0.8)\n",
        "plt.xlabel(\"x\")\n",
        "plt.ylabel(\"frequency\")"
      ],
      "metadata": {
        "colab": {
          "base_uri": "https://localhost:8080/",
          "height": 467
        },
        "id": "r-a_G2uSa14_",
        "outputId": "d929d435-cf4d-48af-a6b3-1b95667d9b27"
      },
      "execution_count": 20,
      "outputs": [
        {
          "output_type": "execute_result",
          "data": {
            "text/plain": [
              "Text(0, 0.5, 'frequency')"
            ]
          },
          "metadata": {},
          "execution_count": 20
        },
        {
          "output_type": "display_data",
          "data": {
            "text/plain": [
              "<Figure size 640x480 with 1 Axes>"
            ],
            "image/png": "[encoded data removed]"
          },
          "metadata": {}
        }
      ]
    },
    {
      "cell_type": "markdown",
      "source": [
        "ให้ทำการทดลองเปลี่ยนค่า n และ N\n"
      ],
      "metadata": {
        "id": "6MkPkv7Zc6OI"
      }
    },
    {
      "cell_type": "code",
      "source": [
        "low = 40\n",
        "high = 70\n",
        "n = 10 # Number of sample per sampling\n",
        "N = 100000 # Number sampling\n",
        "bin = 10\n",
        "data = np.random.uniform(low, high, size=(N,n))\n",
        "avgSample = data.mean(axis = 1)\n",
        "plt.hist(avgSample,bin, ec = 'black', rwidth=0.8)\n",
        "plt.xlabel(\"x\")\n",
        "plt.ylabel(\"frequency\")\n",
        "plt.title(\"n = %d, N = %d\" %(n,N))"
      ],
      "metadata": {
        "colab": {
          "base_uri": "https://localhost:8080/",
          "height": 490
        },
        "id": "W90TiVcONGM1",
        "outputId": "78d6f009-d89c-4091-e572-36c13b9ae942"
      },
      "execution_count": 19,
      "outputs": [
        {
          "output_type": "execute_result",
          "data": {
            "text/plain": [
              "Text(0.5, 1.0, 'n = 10, N = 100000')"
            ]
          },
          "metadata": {},
          "execution_count": 19
        },
        {
          "output_type": "display_data",
          "data": {
            "text/plain": [
              "<Figure size 640x480 with 1 Axes>"
            ],
            "image/png": "[encoded data removed]"
          },
          "metadata": {}
        }
      ]
    },
    {
      "cell_type": "code",
      "source": [
        "# Redefining values after environment reset\n",
        "\n",
        "# Given values for the new problem\n",
        "Z_value_95 = 1.96  # Z-value for 95% confidence\n",
        "sigma_height = 10  # Standard deviation of height\n",
        "E_height = 2.0     # Margin of error\n",
        "\n",
        "# Sample size formula for the new case\n",
        "n_height = (Z_value_95 * sigma_height / E_height) ** 2\n",
        "n_height"
      ],
      "metadata": {
        "colab": {
          "base_uri": "https://localhost:8080/"
        },
        "id": "xQ_kOCN7KAlQ",
        "outputId": "8fc89ba0-2d39-4baa-b522-54286f2c7a45"
      },
      "execution_count": 8,
      "outputs": [
        {
          "output_type": "execute_result",
          "data": {
            "text/plain": [
              "96.04000000000002"
            ]
          },
          "metadata": {},
          "execution_count": 8
        }
      ]
    },
    {
      "cell_type": "markdown",
      "source": [],
      "metadata": {
        "id": "Kjo7h2GPNR8t"
      }
    }
  ]
}